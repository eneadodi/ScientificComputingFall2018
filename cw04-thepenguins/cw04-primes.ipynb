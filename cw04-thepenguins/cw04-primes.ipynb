{
 "cells": [
  {
   "cell_type": "code",
   "execution_count": 1,
   "metadata": {
    "collapsed": false
   },
   "outputs": [
   ],
   "source": [
    "#!/usr/bin/env python3\n",
    "# -*- coding: utf-8 -*-\n",
    "###\n",
    "# Name: Enea Dodi\n",
    "# Student ID: 2296306\n",
    "# Email: dodi@chapman.edu\n",
    "# Course: PHYS220/MATH220/CPSC220 Fall 2018 Assignment: CW03\n",
    "###\n",
    "\n",
    "'''Eratosthenes module\n",
    "This module contains the eratosthenes function that generates\n",
    "primes up to the value of positive integer input n'''\n",
    "import math\n",
    "def eratosthenes(n):\n",
    "    '''Erastosthenes function\n",
    "    Args: n - positive integer representing ceiling number\n",
    "    Returns: list of all primes less than n'''\n",
    "    \n",
    "    #check if integer passed in is positive\n",
    "    if n < 1:\n",
    "        raise Exception(\"Please enter an integer > 0\")\n",
    "    \n",
    "    #generates all integers up to n > 2\n",
    "    nums = list(range(n))\n",
    "    nums = nums[2:]\n",
    "    \n",
    "    #removes all even numbers\n",
    "    nums = [a for a in nums if ((a % 2 != 0) or (a==2))]\n",
    "    \n",
    "    #removes everything that isnt a prime number\n",
    "    for i in nums:\n",
    "        if i > math.sqrt(n):\n",
    "            break\n",
    "        else:\n",
    "            for counter in nums:\n",
    "                if(counter!=i and counter%i==0):\n",
    "                    nums.remove(counter)\n",
    "            \n",
    "    return nums\n",
    "\n",
    "def gen_eratosthenes():\n",
    "    n = set()\n",
    "    i = 0\n",
    "    a = 2\n",
    "    checker = False\n",
    "    while True:\n",
    "        i = i + 1\n",
    "        if i == 1:\n",
    "            continue\n",
    "        elif i == 2:\n",
    "            n.add(2)\n",
    "            yield 2\n",
    "        else:\n",
    "            checker = True\n",
    "            while checker:\n",
    "                checker = False\n",
    "                for j in n:\n",
    "                    if (a%j) == 0:\n",
    "                        a = a+1\n",
    "                        checker = True\n",
    "                        break\n",
    "            n.add(a)\n",
    "            yield a\n"
   ]
  },
  {
   "cell_type": "markdown",
   "metadata": {
    "collapsed": false
   },
   "source": [
    "# The Sieve of Eratosthenes\n",
    "#### Name: Enea Dodi, Gwyneth Casey, Jack Savage\n",
    "#### Date: 9/27/2018\n",
    "\n",
    "The goal of both eratosthenes and gen_eratosthenes are to single down on only the prime numbers up to a certain point. Eratosthenes takes in a parameter\n",
    "n which serves as the cap where the function stops at. This function will return a list containing every prime up to that number.\n",
    "gen_Eratosthenes is a little different because it is a generator. It figures out the next prime when next(generatorfunction) is called. It is infinite cause\n",
    "it'll always compute the next value\n",
    "\n",
    "I used list in the function because that was the best way to output a list (in my eyes)\n",
    "For the function erastothenes, the design follows this order\n",
    "1. Checks if input value is less than 1, if not, then continue. If so, then raise Exception\n",
    "2. Makes a list with all values in range n.\n",
    "3. removes all values before 2.\n",
    "4. removes all even numbers except 2\n",
    "5. checks if value in nums is > the sqrt of the input value. If it is, operation stops. If it is not, then removes a value in the list if a proceding value % that value is = to 0\n",
    "\n",
    "<br>\n",
    "<br>\n",
    "\n",
    "##### if\n",
    "\\begin{align}0 & = b \\% a\\end{align}\n",
    "#### then remove b\n",
    "\n",
    "<br>\n",
    "<br>\n",
    "<br>\n",
    "\n",
    "\n",
    "\n",
    "6. Repeats step 5 until the end of list\n",
    "\n",
    "For the generator gen_erastothenes, the design follows this order:\n",
    "1. makes a set which will hold all the prime numbers\n",
    "2. uses an int for the special cases of the value being 1 ore two. Checks if the values are 1 and 2 and yields accordingly\n",
    "3. checks if a number represented by 'a' is prime by checking if any of the numbers in the prime set % 0 equals 0. If any number in the set does, then simply it adds 1 to a and tries again! Once there is no number in the set that divides equally to a, a is added to the set and is yielded.\n",
    "\n",
    "\n",
    "\n"
   ]
  },
  {
   "cell_type": "markdown",
   "metadata": {
    "collapsed": false
   },
   "source": [
    "# Generating Prime Numbers\n",
    "The prime number generator logic is completely different from the original function.\n",
    "\n",
    "For the generator gen_erastothenes, the design follows this order:\n",
    "1. makes a set which will hold all the prime numbers\n",
    "2. uses an int for the special cases of the value being 1 ore two. Checks if the values are 1 and 2 and yields accordingly\n",
    "3. checks if a number represented by 'a' is prime by checking if any of the numbers in the prime set % 0 equals 0. If any number in the set does, then simply it adds 1 to a and tries again! Once there is no number in the set that divides equally to a, a is added to the set and is yielded.\n",
    "\n",
    "Rather than removing all numbers in a list that are not primes, this makes a set where all prime numbers are held and has a singular integer that increments by one each time a division by a number in set equals a whole number.\n",
    "\n",
    "The next section will demostrate the generator working!\n",
    "\n"
   ]
  },
  {
   "cell_type": "code",
   "execution_count": 0,
   "metadata": {
    "collapsed": false
   },
   "outputs": [
   ],
   "source": [
    "#!/usr/bin/env python3 \n",
    "#-*- coding: utf-8 -*-\n",
    "from primesE import gen_eratosthenes as gen_eratos\n",
    "g = gen_eratos()\n",
    "for i in range(20):\n",
    "    print(next(g))\n",
    "\n"
   ]
  }
 ],
 "metadata": {
  "kernelspec": {
   "display_name": "Python 3 (Anaconda 5)",
   "language": "python",
   "name": "anaconda5"
  },
  "language_info": {
   "codemirror_mode": {
    "name": "ipython",
    "version": 3
   },
   "file_extension": ".py",
   "mimetype": "text/x-python",
   "name": "python",
   "nbconvert_exporter": "python",
   "pygments_lexer": "ipython3",
   "version": "3.6.5"
  }
 },
 "nbformat": 4,
 "nbformat_minor": 0
}