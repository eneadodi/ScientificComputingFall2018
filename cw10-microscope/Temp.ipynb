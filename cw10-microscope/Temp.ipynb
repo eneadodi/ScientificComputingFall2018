{
 "cells": [
  {
   "cell_type": "markdown",
   "metadata": {
    "collapsed": false
   },
   "source": [
    "## CW10\n",
    "##### By Jack Savage and Enea Dodi"
   ]
  },
  {
   "cell_type": "code",
   "execution_count": 0,
   "metadata": {
    "collapsed": false
   },
   "outputs": [
   ],
   "source": [
   ]
  },
  {
   "cell_type": "markdown",
   "metadata": {
    "collapsed": false
   },
   "source": [
    "#### Euler's Method: $u_{k+1} = u_k + \\Delta t\\, f[t_k, u_k]$"
   ]
  },
  {
   "cell_type": "markdown",
   "metadata": {
    "collapsed": false
   },
   "source": [
    "Euler's Method is a linear approximation using a first-order ordinary differential equation. Given a point $u_{k}$, we calculate the rate of change at that point using a first-order ordinary differential equation **(eq 1)**:\n",
    "\n",
    "$$u'(t) = f[t, u(t)]$$\n",
    "\n",
    "One then multiplies the rate of change with the change in $t$ to predict the change between $u_{k}$ and $u_{k+1}$. This product represents the next point in the sequence if the function were linear with constant slope between $u_{k}$ and $u_{k+1}$. As we can calculate $f[t, u(t)]$ independently for each point, we can update the slope for each point $k$ rather than approximating the entire function with a single line."
   ]
  },
  {
   "cell_type": "markdown",
   "metadata": {
    "collapsed": false
   },
   "source": [
    "#### Leapfrog Method: $u_{k+1} = u_{k-1} + 2\\Delta t\\, f[t_k, u_k]$"
   ]
  },
  {
   "cell_type": "markdown",
   "metadata": {
    "collapsed": false
   },
   "source": [
    "The leapfrog method is similar to Euler's method as we are once again using *eq 1* to estimate change between points. This method differs from the first as one is applying the gradient for an $u_{k}$ twice to the point $u_{k-1}$ rather than $u_{k}$ directly. The problem this method presents is that one cannot predict $u_{1}$ without knowing $u_{-1}$ (which doesn't exist). A workaround to this problem would be using Euler's Method to approximate $u_{1}$ and then generate $u_{1+k}$ using the leapfrog method."
   ]
  },
  {
   "cell_type": "markdown",
   "metadata": {
    "collapsed": false
   },
   "source": [
    "#### Heun's (Trapezoid) Method: \n",
    "##### $$\\tilde{u}_{k+1} = u_k + \\Delta t\\, f[t_k, u_k]$$\n",
    "\n",
    "##### $$u_{k+1} = u_k + (\\Delta t/2)(f[t_k, u_k] + f[t_{k+1}, \\tilde{u}_{k+1}])$$"
   ]
  },
  {
   "cell_type": "markdown",
   "metadata": {
    "collapsed": false
   },
   "source": [
    "Heun's Method is a two step process. In the first equation, we see our old friend Euler's method return. This means we can view $\\tilde{u}_{k+1}$ as a linear approximation of $u_{k+1}$. In the second equation, we're averaging the derivatives (using the ODE as always) of $u_{k}$ and $\\tilde{u}_{k+1}$ (linear approximation of $u_{k+1}$) and adding them to $u_{k}$. \n",
    "\n",
    "**PUT CONCRETE EXAMPLE HERE**\n",
    "\n",
    "This equation somewhat resembles the equation for the area of a trapezoid where we multiply the average of base lengths by a given height. In our case we're multiplying the average of two derivatives by a given $u_{k}$ value."
   ]
  },
  {
   "cell_type": "markdown",
   "metadata": {
    "collapsed": false
   },
   "source": [
    "#### 2nd-order Runge-Kutta Method:\n",
    "   \n",
    "#####   $K_1 = \\Delta t\\, f[t_k, u_k]$, \n",
    "   \n",
    "#####   $K_2 = \\Delta t\\, f[t_k + \\Delta t/2, u_k + K_1/2]$,\n",
    "\n",
    "#####   $u_{k+1} = u_k + K_2$"
   ]
  },
  {
   "cell_type": "markdown",
   "metadata": {
    "collapsed": false
   },
   "source": [
    "The Runge-Kutta method is a 3 step process. First, one uses *eq 1* to evaluate the linear approximation of $u_{k+1}$. This is represented by $K_{1}$ above. Generating our $K_{2}$ value is a bit more tricky. We use the same function $f$ as previously but operate on the $t$ value and approximate $u$ value in the middle of $u_{k}$ and $u_{k+1}$. This operation gives us an approximation of "
   ]
  },
  {
   "cell_type": "code",
   "execution_count": 0,
   "metadata": {
    "collapsed": false
   },
   "outputs": [
   ],
   "source": [
   ]
  }
 ],
 "metadata": {
  "kernelspec": {
   "display_name": "Python 3 (Anaconda 5)",
   "language": "python",
   "name": "anaconda5"
  },
  "language_info": {
   "codemirror_mode": {
    "name": "ipython",
    "version": 3
   },
   "file_extension": ".py",
   "mimetype": "text/x-python",
   "name": "python",
   "nbconvert_exporter": "python",
   "pygments_lexer": "ipython3",
   "version": "3.6.5"
  }
 },
 "nbformat": 4,
 "nbformat_minor": 0
}