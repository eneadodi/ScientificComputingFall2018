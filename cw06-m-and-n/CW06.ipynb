{
 "cells": [
  {
   "cell_type": "code",
   "execution_count": 1,
   "metadata": {
    "collapsed": false
   },
   "outputs": [
   ],
   "source": [
    "import elementary as e\n",
    "import scipy.constants"
   ]
  },
  {
   "cell_type": "code",
   "execution_count": 2,
   "metadata": {
    "collapsed": false
   },
   "outputs": [
   ],
   "source": [
    "# Basic plotting defaults\n",
    "import matplotlib.pyplot as plt\n",
    "%matplotlib inline\n",
    "# Use better color defaults\n",
    "plt.style.use(\"seaborn-pastel\")"
   ]
  },
  {
   "cell_type": "markdown",
   "metadata": {
    "collapsed": false
   },
   "source": [
    "# CW06 \n",
    "\n",
    "#### Enea Dodi, Monica Hiemer, Natanael\n",
    "\n",
    "##### 10/10/2018"
   ]
  },
  {
   "cell_type": "markdown",
   "metadata": {
    "collapsed": false
   },
   "source": [
    "## Instructions\n",
    "\n",
    "* create 1 generic Particle instance, 1 Electron instance, and 1 Proton instance. \n",
    "* show that each has different mass.\n",
    "* Give each particle an initial momentum of $\\vec{p}_0 = (10,\\text{kg m/s}),\\hat{k} \\sim (0,,0,,10),\\text{kg m/s}$ (straight up).\n",
    "* Start the initial positions at $\\vec{r}_0 \\sim (0,,0,,1)\\text{m}$, $(0,,0,,2)\\text{m}$, and $(0,,0,,3)\\text{m}$, respectively, where $\\vec{r} \\sim (x,,y,,z)$.\n",
    "* create a plot that shows the $z$ coordinate of each particle plotted as a function of time, $z(t)$, after placing each particle in a gravitational field $\\vec{g}$. \n",
    "* For each time step dt,apply an impulse $d\\vec{p}$ to each particle from the gravitational field, then apply the .move(dt) method and store the new $z$ coordinate of each particle.\n",
    "* After you have accumulated $5$ seconds worth of time steps, plot each particle trajectory $z(t)$ on the same graph. \n",
    "* Comment about your findings regarding how electrons, protons, and generic particles all move in a gravitational field."
   ]
  },
  {
   "cell_type": "code",
   "execution_count": 1,
   "metadata": {
    "collapsed": false
   },
   "outputs": [
    {
     "ename": "NameError",
     "evalue": "name 'e' is not defined",
     "output_type": "error",
     "traceback": [
      "\u001b[0;31m---------------------------------------------------------------------------\u001b[0m",
      "\u001b[0;31mNameError\u001b[0m                                 Traceback (most recent call last)",
      "\u001b[0;32m<ipython-input-1-953bfa28d496>\u001b[0m in \u001b[0;36m<module>\u001b[0;34m()\u001b[0m\n\u001b[0;32m----> 1\u001b[0;31m \u001b[0mparticle\u001b[0m \u001b[0;34m=\u001b[0m \u001b[0me\u001b[0m\u001b[0;34m.\u001b[0m\u001b[0mParticle\u001b[0m\u001b[0;34m(\u001b[0m\u001b[0;36m0\u001b[0m\u001b[0;34m,\u001b[0m\u001b[0;36m0\u001b[0m\u001b[0;34m,\u001b[0m\u001b[0;36m1\u001b[0m\u001b[0;34m)\u001b[0m\u001b[0;34m\u001b[0m\u001b[0m\n\u001b[0m\u001b[1;32m      2\u001b[0m \u001b[0mparticle\u001b[0m\u001b[0;34m.\u001b[0m\u001b[0mimpulse\u001b[0m\u001b[0;34m(\u001b[0m\u001b[0;36m0\u001b[0m\u001b[0;34m,\u001b[0m\u001b[0;36m0\u001b[0m\u001b[0;34m,\u001b[0m\u001b[0mparticle\u001b[0m\u001b[0;34m.\u001b[0m\u001b[0mmass\u001b[0m\u001b[0;34m*\u001b[0m\u001b[0;36m10\u001b[0m\u001b[0;34m)\u001b[0m\u001b[0;34m\u001b[0m\u001b[0m\n\u001b[1;32m      3\u001b[0m \u001b[0melectron\u001b[0m \u001b[0;34m=\u001b[0m \u001b[0me\u001b[0m\u001b[0;34m.\u001b[0m\u001b[0mElectron\u001b[0m\u001b[0;34m(\u001b[0m\u001b[0;36m0\u001b[0m\u001b[0;34m,\u001b[0m\u001b[0;36m0\u001b[0m\u001b[0;34m,\u001b[0m\u001b[0;36m2\u001b[0m\u001b[0;34m)\u001b[0m\u001b[0;34m\u001b[0m\u001b[0m\n\u001b[1;32m      4\u001b[0m \u001b[0melectron\u001b[0m\u001b[0;34m.\u001b[0m\u001b[0mimpulse\u001b[0m\u001b[0;34m(\u001b[0m\u001b[0;36m0\u001b[0m\u001b[0;34m,\u001b[0m\u001b[0;36m0\u001b[0m\u001b[0;34m,\u001b[0m\u001b[0melectron\u001b[0m\u001b[0;34m.\u001b[0m\u001b[0mmass\u001b[0m\u001b[0;34m*\u001b[0m\u001b[0;36m10\u001b[0m\u001b[0;34m)\u001b[0m\u001b[0;34m\u001b[0m\u001b[0m\n\u001b[1;32m      5\u001b[0m \u001b[0mproton\u001b[0m \u001b[0;34m=\u001b[0m \u001b[0me\u001b[0m\u001b[0;34m.\u001b[0m\u001b[0mProton\u001b[0m\u001b[0;34m(\u001b[0m\u001b[0;36m0\u001b[0m\u001b[0;34m,\u001b[0m\u001b[0;36m0\u001b[0m\u001b[0;34m,\u001b[0m\u001b[0;36m3\u001b[0m\u001b[0;34m)\u001b[0m\u001b[0;34m\u001b[0m\u001b[0m\n",
      "\u001b[0;31mNameError\u001b[0m: name 'e' is not defined"
     ]
    }
   ],
   "source": [
    "\n",
    "particle = e.Particle(0,0,1)\n",
    "particle.impulse(0,0,particle.mass*10)\n",
    "electron = e.Electron(0,0,2)\n",
    "electron.impulse(0,0,electron.mass*10)\n",
    "proton = e.Proton(0,0,3)\n",
    "proton.impulse(0,0,proton.mass*10)\n",
    "\n",
    "\n",
    "ypoints = []\n",
    "ypoints2 = []\n",
    "ypoints3 = []\n",
    "xpoints = []\n",
    "#ypoints.append(proton.position[2])\n",
    "#ypoints2.append(electron.position[2])\n",
    "#ypoints3.append(particle.position[2])\n",
    "dt = 1e-2\n",
    "dp = 0.005\n",
    "for i in range(500):\n",
    "    proton.impulse(0,0,-proton.mass*9.81*dt)\n",
    "    electron.impulse(0,0,-electron.mass*9.81*dt)\n",
    "    particle.impulse(0,0,-particle.mass*9.81*dt)\n",
    "    proton.move(dt)\n",
    "    electron.move(dt)\n",
    "    particle.move(dt)\n",
    "    ypoints.append(proton.position[2])\n",
    "    ypoints2.append(electron.position[2])\n",
    "    ypoints3.append(particle.position[2])\n",
    "    if i == 0:\n",
    "        xpoints.append(dt)\n",
    "    else:\n",
    "        xpoints.append(dt*i)\n",
    "\n",
    "# First create a figure, with \"handle\" stored in variable f\n",
    "# The figsize is displayed in inches (on a printed page), with (width, height)\n",
    "f = plt.figure(figsize=(8,6))\n",
    "# Then create axes on the figure, with \"handle\" stored in variable a\n",
    "a = plt.axes()\n",
    "# Explicitly plot matched pairs of x-y points on the axis a\n",
    "a.plot(xpoints, ypoints, color = \"blue\", label=\"proton\")\n",
    "# Explicitly plot different matched pair of x-y points, with circle markers in a different color\n",
    "a.plot(xpoints, ypoints2, color=\"Red\", label=\"electron\")\n",
    "# Explicitly plot different matched pair of x-y points, with circle markers in a different color\n",
    "a.plot(xpoints, ypoints3, color=\"orange\", label=\"Particle\")\n",
    "# Explicitly set axis labels and a plot title\n",
    "a.set(xlabel=\"Time (s)\", ylabel=\"Position (m)\", title=\"Particle Trajectory\")\n",
    "# Add a legend describing which curve is which\n",
    "a.legend()\n",
    "# Show the active plot to the screen\n",
    "plt.show()"
   ]
  },
  {
   "cell_type": "code",
   "execution_count": 0,
   "metadata": {
    "collapsed": false
   },
   "outputs": [
   ],
   "source": [
   ]
  },
  {
   "cell_type": "raw",
   "metadata": {
    "collapsed": false
   },
   "source": [
   ]
  },
  {
   "cell_type": "code",
   "execution_count": 0,
   "metadata": {
    "collapsed": false
   },
   "outputs": [
   ],
   "source": [
   ]
  },
  {
   "cell_type": "code",
   "execution_count": 0,
   "metadata": {
    "collapsed": false
   },
   "outputs": [
   ],
   "source": [
   ]
  }
 ],
 "metadata": {
  "kernelspec": {
   "display_name": "Python 3 (Anaconda 5)",
   "language": "python",
   "name": "anaconda5"
  },
  "language_info": {
   "codemirror_mode": {
    "name": "ipython",
    "version": 3
   },
   "file_extension": ".py",
   "mimetype": "text/x-python",
   "name": "python",
   "nbconvert_exporter": "python",
   "pygments_lexer": "ipython3",
   "version": "3.6.5"
  }
 },
 "nbformat": 4,
 "nbformat_minor": 0
}