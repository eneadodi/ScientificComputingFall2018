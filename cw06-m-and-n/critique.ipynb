{
 "cells": [
  {
   "cell_type": "markdown",
   "metadata": {
    "collapsed": false
   },
   "source": [
    "# Critique CW04\n"
   ]
  },
  {
   "cell_type": "code",
   "execution_count": 4,
   "metadata": {
    "collapsed": false
   },
   "outputs": [
    {
     "name": "stdout",
     "output_type": "stream",
     "text": [
      "2\n"
     ]
    }
   ],
   "source": [
    "import primesE as p\n",
    "g=p.gen_eratosthenes() \n",
    "print(next(g))"
   ]
  },
  {
   "cell_type": "markdown",
   "metadata": {
    "collapsed": false
   },
   "source": [
    "## Is it clear how the code is organized? \n",
    "### yes\n",
    "## Is the code properly documented with both docstrings and supplementary comments according to industry standards?\n",
    "### No there is no docstings but the code is easy to follow and understand\n",
    "## Can you follow the algorithm of the code, i.e., what it is doing, and how? \n",
    "### Yes the code is easy to follow. There is two functions, fucntion erestinas (eratosthenes) which outputs prime numbers until the input integer. THe second function is a generator which outputs the next prime every time. \n",
    "## Does the code work? \n",
    "### of course \n",
    "## Do you see any suggestions for how to improve the code? Are the test cases in the test module run by the code automatically by Travis? Do the tests verify correct functionality? On a scale of 0-100, the reviewer should rate the work produced by the reviewee. "
   ]
  }
 ],
 "metadata": {
  "kernelspec": {
   "display_name": "Python 3 (Anaconda 5)",
   "language": "python",
   "name": "anaconda5"
  },
  "language_info": {
   "codemirror_mode": {
    "name": "ipython",
    "version": 2
   },
   "file_extension": ".py",
   "mimetype": "text/x-python",
   "name": "python",
   "nbconvert_exporter": "python",
   "pygments_lexer": "ipython2",
   "version": "2.7.15"
  }
 },
 "nbformat": 4,
 "nbformat_minor": 0
}