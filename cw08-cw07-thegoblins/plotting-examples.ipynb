{
 "cells": [
  {
   "cell_type": "code",
   "execution_count": 1,
   "metadata": {
    "collapsed": false
   },
   "outputs": [
   ],
   "source": [
    "import numpy as np\n",
    "import pandas as pd\n",
    "import matplotlib.pyplot as plt\n",
    "import seaborn as sb"
   ]
  },
  {
   "cell_type": "markdown",
   "metadata": {
    "collapsed": false
   },
   "source": [
    "# Plotting Examples\n",
    "\n",
    "Enea Dodi, Ben Seeley\n",
    "\n",
    "10/25/2018\n",
    "\n",
    "## Defining Mathematical Functions\n",
    "\n",
    "The following code shows features of numpy for rapidly implementing discrete approximations of mathematical functions."
   ]
  },
  {
   "cell_type": "code",
   "execution_count": 2,
   "metadata": {
    "collapsed": false
   },
   "outputs": [
   ],
   "source": [
    "def gaussian(x):\n",
    "    \"\"\"gaussian(x)\n",
    "    \n",
    "    Normalized Gaussian function, also known as a normal distribution, or a bell curve.\n",
    "    \"\"\"\n",
    "    return (1/np.sqrt(2*np.pi))*np.exp(-x**2/2)\n",
    "\n",
    "def lorentzian(x):\n",
    "    \"\"\"lorentzian(x)\n",
    "    \n",
    "    Normalized Lorentzian function, also known as a Cauchy distribution, or a resonance linewidth.\n",
    "    \"\"\"\n",
    "    return (1/np.pi)/(1 + x**2)\n",
    "\n",
    "def sigmoid(x):\n",
    "    \"\"\"sigmoid(x)\n",
    "    \n",
    "    Sigmoid function, used to simulate neuron activation in neural networks.\n",
    "    \"\"\"\n",
    "    return 1/(1 + np.exp(-x))\n",
    "\n",
    "def sinc(x):\n",
    "    \"\"\"sinc(x)\n",
    "    \n",
    "    Sinc function, appears in single-slit diffraction, and is Fourier transform of a tophat function.\n",
    "    \"\"\"\n",
    "    # Avoids division by zero by defaulting to the value 1\n",
    "    return np.divide(np.sin(x), x, out=np.ones_like(x), where=(x!=0))\n",
    "\n",
    "def raisedcosine(x):\n",
    "    \"\"\"raisedcosine(x)\n",
    "    \n",
    "    Raised cosine distribution, has compact support but similar to bell curve.\n",
    "    \"\"\"\n",
    "    # Efficient conditional evaluation across array\n",
    "    return np.where(np.abs(x) < np.pi, (1 + np.cos(x))/(2*np.pi), 0)"
   ]
  },
  {
   "cell_type": "markdown",
   "metadata": {
    "collapsed": false
   },
   "source": [
    "Note that the python function definitions are type agnostic: the parameter `x` could be any type, and the code will run provided that the expressions inside the function are compatible with that type. This type-agnosticism of python is often called \"duck typing\", since if it walks like a duck, and quacks like a duck, python will think it is a duck. For the cases above, functions that rely only on array broadcasting and vectorization will have the operations will work correctly when `x` is a float, or when `x` in an array as floats. This is one of the main reasons that broadcasting and vectorization are given no special syntax in numpy."
   ]
  },
  {
   "cell_type": "code",
   "execution_count": 3,
   "metadata": {
    "collapsed": false
   },
   "outputs": [
    {
     "data": {
      "text/plain": [
       "[0.1849372809633053, 0.125437376333461, 0.7755640142690734]"
      ]
     },
     "execution_count": 3,
     "metadata": {
     },
     "output_type": "execute_result"
    }
   ],
   "source": [
    "[f(1.24) for f in [gaussian, lorentzian, sigmoid]]  # evaluation on a float"
   ]
  },
  {
   "cell_type": "code",
   "execution_count": 4,
   "metadata": {
    "collapsed": false
   },
   "outputs": [
    {
     "data": {
      "text/plain": [
       "[array([0.24197072, 0.39894228, 0.24197072]),\n",
       " array([0.15915494, 0.31830989, 0.15915494]),\n",
       " array([0.26894142, 0.5       , 0.73105858])]"
      ]
     },
     "execution_count": 4,
     "metadata": {
     },
     "output_type": "execute_result"
    }
   ],
   "source": [
    "[f(np.linspace(-1,1,3)) for f in [gaussian, lorentzian, sigmoid]] # evaluation on an array"
   ]
  },
  {
   "cell_type": "markdown",
   "metadata": {
    "collapsed": false
   },
   "source": [
    "The remaining two functions use features specific to numpy arrays, so will autoconvert a float input to an array output."
   ]
  },
  {
   "cell_type": "code",
   "execution_count": 5,
   "metadata": {
    "collapsed": false
   },
   "outputs": [
    {
     "data": {
      "text/plain": [
       "[array(0.76272903), array(0.21084788)]"
      ]
     },
     "execution_count": 5,
     "metadata": {
     },
     "output_type": "execute_result"
    }
   ],
   "source": [
    "[f(1.24) for f in [sinc, raisedcosine]] # numpy specialized evaluation on a float"
   ]
  },
  {
   "cell_type": "markdown",
   "metadata": {
    "collapsed": false
   },
   "source": [
    "Make sure you understand the concepts of broadcasting and vectorization for arrays. Explain those concepts in your own words below, and use code examples to illustrate your descriptions."
   ]
  },
  {
   "cell_type": "code",
   "execution_count": 6,
   "metadata": {
    "collapsed": false
   },
   "outputs": [
   ],
   "source": [
    "# Broadcasting explanation and example\n",
    "\n",
    "# Vectorization explanation and example"
   ]
  },
  {
   "cell_type": "markdown",
   "metadata": {
    "collapsed": false
   },
   "source": [
    "## Plotting Functions"
   ]
  },
  {
   "cell_type": "markdown",
   "metadata": {
    "collapsed": false
   },
   "source": [
    "### Lazy Plotting with Dataframes\n",
    "\n",
    "For quick plots, it is convenient to neatly package all function range data together with their common domain data. Pandas dataframes are ideally suited for such data organization. Dataframes also provide a simple plot interface to quickly generate plots."
   ]
  },
  {
   "cell_type": "code",
   "execution_count": 7,
   "metadata": {
    "collapsed": false
   },
   "outputs": [
   ],
   "source": [
    "def make_plots(a=-10,b=10,n=1000):\n",
    "    # Generate n domain points equally spaced to cover the interval [a,b]\n",
    "    x = np.linspace(a,b,n)\n",
    "    \n",
    "    # Collect function range points corresponding to domain points\n",
    "    fs = pd.DataFrame({\"x\":x\n",
    "                     ,\"gaussian\":gaussian(x)\n",
    "                     ,\"lorentzian\":lorentzian(x)\n",
    "                     ,\"sigmoid\":sigmoid(x)\n",
    "                     ,\"sinc\":sinc(x)\n",
    "                     ,\"raisedcosine\":raisedcosine(x)\n",
    "                     })\n",
    "    \n",
    "    # Plot all range points with respect to same domain points x\n",
    "    fs.plot(x='x')"
   ]
  },
  {
   "cell_type": "code",
   "execution_count": 8,
   "metadata": {
    "collapsed": false
   },
   "outputs": [
    {
     "data": {
      "image/png": "[encoded data removed]"
     },
     "metadata": {
      "image/png": {
       "height": 263,
       "width": 382
      },
      "needs_background": "light"
     },
     "output_type": "execute_result"
    }
   ],
   "source": [
    "make_plots()"
   ]
  },
  {
   "cell_type": "code",
   "execution_count": 9,
   "metadata": {
    "collapsed": false
   },
   "outputs": [
    {
     "data": {
      "image/png": "[encoded data removed]"
     },
     "metadata": {
      "image/png": {
       "height": 263,
       "width": 382
      },
      "needs_background": "light"
     },
     "output_type": "execute_result"
    }
   ],
   "source": [
    "make_plots(a=-100,b=100)"
   ]
  },
  {
   "cell_type": "code",
   "execution_count": 10,
   "metadata": {
    "collapsed": false
   },
   "outputs": [
    {
     "data": {
      "image/png": "[encoded data removed]"
     },
     "metadata": {
      "image/png": {
       "height": 263,
       "width": 373
      },
      "needs_background": "light"
     },
     "output_type": "execute_result"
    }
   ],
   "source": [
    "make_plots(n=10)"
   ]
  },
  {
   "cell_type": "markdown",
   "metadata": {
    "collapsed": false
   },
   "source": [
    "## Plotting with Matplotlib"
   ]
  },
  {
   "cell_type": "markdown",
   "metadata": {
    "collapsed": false
   },
   "source": [
    "Use `matplotlib.pyplot` to generate a plot comparing the Gaussian function, Lorentzian function, and raised cosine function in more detail. Plot the Gaussian in blue, the Lorentzian in red, and the raised cosine in green. Make the Gaussian solid, the Lorentzian dashed, and the raised cosine dotted. Create a legend that labels each curve. Resize the tickmarks to be double the default size. Label the x axis as \"x\" and double the default font size. Create a plot title of \"Distribution comparison\". Annotate the plot with a point on each curve at $x=\\pi$, with an arrow pointing to one of the points with a label of $\\pi$.\n",
    "\n",
    "After you handle the 1d case, create separate 2d plots of each function by interpreting the \"x\" value of each function as the radius away from the origin in a 2d plane (so that each 2d function is symmetric under rotations around the origin in the plane).\n",
    "\n",
    "The following resources may be helpful:\n",
    "  - https://www.labri.fr/perso/nrougier/teaching/matplotlib/\n",
    "  - http://matplotlib.org/gallery.html"
   ]
  },
  {
   "cell_type": "code",
   "execution_count": 11,
   "metadata": {
    "collapsed": false
   },
   "outputs": [
   ],
   "source": [
    "# Plot code goes here"
   ]
  },
  {
   "cell_type": "markdown",
   "metadata": {
    "collapsed": false
   },
   "source": [
    "## Plotting with Seaborn"
   ]
  },
  {
   "cell_type": "markdown",
   "metadata": {
    "collapsed": false
   },
   "source": [
    "Seaborn is a statistical plotting extension to Matplotlib that uses nicer visual defaults for common data-processing tasks. Consider the following code fragment that generates a set of random points sampled from a normalized Gaussian distribution and generates a histogram of the data. The blue curve is the estimated continuous distribution function that is consistent with the sampled data. The red curve is the Gaussian function defined above. Show by increasing the parameter `n` that collecting more samples improves the estimate to converge to the actual Gaussian being used to generate the data. How many samples are required before the distribution convincingly converges?\n",
    "\n",
    "The following documentation may be helpful:\n",
    "\n",
    "  - https://seaborn.pydata.org/tutorial/distributions.html"
   ]
  },
  {
   "cell_type": "code",
   "execution_count": 12,
   "metadata": {
    "collapsed": false
   },
   "outputs": [
   ],
   "source": [
    "def gaussian_sample(n):\n",
    "    # Generate n random normally-distributed floats\n",
    "    data = np.random.randn(n)\n",
    "    # Create domain of points for plotting\n",
    "    x = np.linspace(-4,4,100)\n",
    "    # Plot\n",
    "    plt.figure(1)\n",
    "    plt.title(\"Gaussian sampling\")\n",
    "    plt.xlabel(\"x\")\n",
    "    plt.plot(x,gaussian(x),label=\"gaussian\",color=\"red\")\n",
    "    # Use seaborn to generate histogram and estimate distribution\n",
    "    sb.distplot(data,label=\"data\",color=\"blue\",kde_kws={\"label\":\"estimate\"})\n",
    "    # Label curves\n",
    "    plt.legend()"
   ]
  },
  {
   "cell_type": "code",
   "execution_count": 13,
   "metadata": {
    "collapsed": false
   },
   "outputs": [
    {
     "name": "stderr",
     "output_type": "stream",
     "text": [
      "/ext/anaconda5/lib/python3.6/site-packages/scipy/stats/stats.py:1713: FutureWarning: Using a non-tuple sequence for multidimensional indexing is deprecated; use `arr[tuple(seq)]` instead of `arr[seq]`. In the future this will be interpreted as an array index, `arr[np.array(seq)]`, which will result either in an error or a different result.\n",
      "  return np.add.reduce(sorted[indexer] * weights, axis=axis) / sumval\n"
     ]
    },
    {
     "data": {
      "image/png": "[encoded data removed]"
     },
     "metadata": {
      "image/png": {
       "height": 277,
       "width": 373
      },
      "needs_background": "light"
     },
     "output_type": "execute_result"
    }
   ],
   "source": [
    "gaussian_sample(10)"
   ]
  },
  {
   "cell_type": "markdown",
   "metadata": {
    "collapsed": false
   },
   "source": [
    "Repeat the above analysis for the Lorentzian distribution (see `numpy.random.standard_cauchy` for sampling Lorentzian-distributed random numbers). How many samples do you need to show convergence to the distribution? Speculate why there is a difference between the Gaussian and Lorentzian cases. (Hint: This problem is tricky, so think about it carefully and describe ways to get around the issues you find.)"
   ]
  },
  {
   "cell_type": "code",
   "execution_count": 14,
   "metadata": {
    "collapsed": false
   },
   "outputs": [
   ],
   "source": [
    "# Code goes here"
   ]
  },
  {
   "cell_type": "markdown",
   "metadata": {
    "collapsed": false
   },
   "source": [
    "Seaborn is extremely powerful for manipulating statistics and processing data points. For more examples see:\n",
    "  - https://seaborn.pydata.org/examples/index.html"
   ]
  }
 ],
 "metadata": {
  "kernelspec": {
   "display_name": "Python 3 (Anaconda 5)",
   "language": "python",
   "name": "anaconda5"
  },
  "language_info": {
   "codemirror_mode": {
    "name": "ipython",
    "version": 3
   },
   "file_extension": ".py",
   "mimetype": "text/x-python",
   "name": "python",
   "nbconvert_exporter": "python",
   "pygments_lexer": "ipython3",
   "version": "3.6.5"
  }
 },
 "nbformat": 4,
 "nbformat_minor": 0
}