{
 "cells": [
  {
   "cell_type": "code",
   "execution_count": 1,
   "metadata": {
    "collapsed": false
   },
   "outputs": [
   ],
   "source": [
    "import convergent_sums as c"
   ]
  },
  {
   "cell_type": "markdown",
   "metadata": {
    "collapsed": false
   },
   "source": [
    "# Convergent Sums Class\n",
    "#### Enea Dodi\n",
    "#### 2296306\n",
    "#### 10/4/2018\n",
    "\n",
    "In the previous homework assignment, we were instructed to make a function for three individual equations and run the equations until a certain tolerance point. For Homework 5 we make something way more generic,\n",
    "a class where it calculates an infinite sum of an equation inputed. The class has attributes: .term which stores a function that specifies each This class should have an attribute .term that will store a function that specifies each $k$-dependent term $f_k$ of the sum; .tolerance which stores the tolerance to which the sum will be evaluated; .vale which stores either none or the computed value of the specified tolerance. The class also has the methods .evaluate(self) that computes the value of the sum up to the specified tolerance and stores it in the attribute .valuen and the method .__call__(self) to either return the stored computed value, or execute .evaluate() before returning the computed value. The function is inputed in the constructor. \n",
    "\n",
    "In the next few cell we will run the functions sum_1, sum_2, and sum_3, as well as the class with an input of each one of these equations and compare results!"
   ]
  },
  {
   "cell_type": "code",
   "execution_count": 2,
   "metadata": {
    "collapsed": false
   },
   "outputs": [
    {
     "name": "stdout",
     "output_type": "stream",
     "text": [
      "3.1415769456321168\n"
     ]
    }
   ],
   "source": [
    "print(c.sum_1())"
   ]
  },
  {
   "cell_type": "code",
   "execution_count": 3,
   "metadata": {
    "collapsed": false
   },
   "outputs": [
    {
     "name": "stdout",
     "output_type": "stream",
     "text": [
      "3.1415687159417844\n"
     ]
    }
   ],
   "source": [
    "print(c.sum_2())"
   ]
  },
  {
   "cell_type": "code",
   "execution_count": 4,
   "metadata": {
    "collapsed": false
   },
   "outputs": [
    {
     "name": "stdout",
     "output_type": "stream",
     "text": [
      "3.141621029325035\n"
     ]
    }
   ],
   "source": [
    "print(c.sum_3())"
   ]
  },
  {
   "cell_type": "code",
   "execution_count": 5,
   "metadata": {
    "collapsed": false
   },
   "outputs": [
    {
     "name": "stdout",
     "output_type": "stream",
     "text": [
      "3.1415769456321168\n"
     ]
    }
   ],
   "source": [
    "#equation of sum_1\n",
    "s1 = c.ConvergentSum(c.term_1, start = 1)\n",
    "s1()"
   ]
  },
  {
   "cell_type": "code",
   "execution_count": 6,
   "metadata": {
    "collapsed": false
   },
   "outputs": [
    {
     "name": "stdout",
     "output_type": "stream",
     "text": [
      "3.1415687159417844\n"
     ]
    }
   ],
   "source": [
    "#equation of sum_2\n",
    "s2 = c.ConvergentSum(c.term_2)\n",
    "s2()"
   ]
  },
  {
   "cell_type": "code",
   "execution_count": 7,
   "metadata": {
    "collapsed": false
   },
   "outputs": [
    {
     "name": "stdout",
     "output_type": "stream",
     "text": [
      "3.141621029325035\n"
     ]
    }
   ],
   "source": [
    "#equation of sum_3\n",
    "s3 = c.ConvergentSum(c.term_3)\n",
    "s3()"
   ]
  },
  {
   "cell_type": "markdown",
   "metadata": {
    "collapsed": false
   },
   "source": [
    "As you can see, the results are the same!!!"
   ]
  },
  {
   "cell_type": "code",
   "execution_count": 0,
   "metadata": {
    "collapsed": false
   },
   "outputs": [
   ],
   "source": [
   ]
  }
 ],
 "metadata": {
  "kernelspec": {
   "display_name": "Python 3 (Anaconda 5)",
   "language": "python",
   "name": "anaconda5"
  },
  "language_info": {
   "codemirror_mode": {
    "name": "ipython",
    "version": 3
   },
   "file_extension": ".py",
   "mimetype": "text/x-python",
   "name": "python",
   "nbconvert_exporter": "python",
   "pygments_lexer": "ipython3",
   "version": "3.6.5"
  }
 },
 "nbformat": 4,
 "nbformat_minor": 0
}